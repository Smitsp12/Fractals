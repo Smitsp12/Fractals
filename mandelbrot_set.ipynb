{
 "cells": [
  {
   "cell_type": "markdown",
   "id": "4bd4102e-a7e8-4f62-ab0b-553608923c6d",
   "metadata": {},
   "source": [
    "# Mandelbrot Set"
   ]
  },
  {
   "cell_type": "code",
   "execution_count": 28,
   "id": "ef7a5db1-dcf2-4908-a1b3-30c23015f743",
   "metadata": {},
   "outputs": [],
   "source": [
    "import numpy as np\n",
    "import matplotlib.pyplot as plt\n",
    "from matplotlib.animation import FuncAnimation\n",
    "\n",
    "%matplotlib qt"
   ]
  },
  {
   "cell_type": "code",
   "execution_count": 29,
   "id": "f4338689-3ccc-484f-938d-41c577817428",
   "metadata": {},
   "outputs": [],
   "source": [
    "#Counting iteration before Z escape the Mandelbrot set\n",
    "def mandelbrot(x, y, max_iter):\n",
    "    z = 0\n",
    "    c = complex(x, y)\n",
    "    for n in range(max_iter):\n",
    "        if abs(z) > 2:\n",
    "            return n+1\n",
    "        z = z**2 + c\n",
    "    return n+1"
   ]
  },
  {
   "cell_type": "code",
   "execution_count": 33,
   "id": "6f50b1f9-d79e-4197-a952-610dffa40b72",
   "metadata": {},
   "outputs": [],
   "source": [
    "#Complex space\n",
    "Re = np.linspace(-2, 1, 300)\n",
    "Im = np.linspace(-1.5, 1.5, 300)\n",
    "max_iter = 50\n",
    "\n",
    "#iteration counter\n",
    "iteration_matrix = []\n",
    "for y in Im:\n",
    "    row = []\n",
    "    for x in Re:\n",
    "        row.append(mandelbrot(x, y, max_iter))\n",
    "    iteration_matrix.append(row)"
   ]
  },
  {
   "cell_type": "code",
   "execution_count": 35,
   "id": "ab779c5a-af78-4d98-b16b-a47afd103c93",
   "metadata": {},
   "outputs": [],
   "source": [
    "#plotting the data\n",
    "fig, ax = plt.subplots()\n",
    "ax.set_aspect(\"equal\")\n",
    "ax.set_axis_off()\n",
    "img = ax.imshow(iteration_matrix, cmap='inferno', extent=[-2, 1, -1.5, 1.5], origin='lower', interpolation='none')\n",
    "ax.text(-0.5, 1.4,r\"$z_{n+1} = z^2_{n} + c$\", color = 'white', size = 5, ha='center', va = 'top')\n",
    "plt.savefig('Mandelbrot_imshow.jpg', dpi=300, transparent=True, bbox_inches='tight', pad_inches=0)\n",
    "plt.show()"
   ]
  },
  {
   "cell_type": "code",
   "execution_count": null,
   "id": "b74c658d-6d50-4f89-8be6-469f6a6b5da6",
   "metadata": {},
   "outputs": [],
   "source": []
  }
 ],
 "metadata": {
  "kernelspec": {
   "display_name": "Python 3 (ipykernel)",
   "language": "python",
   "name": "python3"
  },
  "language_info": {
   "codemirror_mode": {
    "name": "ipython",
    "version": 3
   },
   "file_extension": ".py",
   "mimetype": "text/x-python",
   "name": "python",
   "nbconvert_exporter": "python",
   "pygments_lexer": "ipython3",
   "version": "3.11.4"
  }
 },
 "nbformat": 4,
 "nbformat_minor": 5
}
